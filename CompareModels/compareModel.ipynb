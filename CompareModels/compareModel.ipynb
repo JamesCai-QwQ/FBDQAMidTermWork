{
 "cells": [
  {
   "cell_type": "code",
   "execution_count": 1,
   "id": "b0a066b9-06d1-4f68-9a65-bdc0cab3c226",
   "metadata": {},
   "outputs": [
    {
     "data": {
      "text/plain": [
       "1000"
      ]
     },
     "execution_count": 1,
     "metadata": {},
     "output_type": "execute_result"
    }
   ],
   "source": [
    "# 调库,这里的gdatasdk是服务器环境的库\n",
    "import pandas as pd\n",
    "import numpy as np\n",
    "from qdatasdk import *\n",
    "import matplotlib.pyplot as plt\n",
    "from MyModel import Model1, Model2, DataCleaner\n",
    "from sklearn.linear_model import Lasso, Ridge\n",
    "from sklearn.preprocessing import PolynomialFeatures\n",
    "from sklearn.neighbors import KNeighborsRegressor\n",
    "from sklearn.svm import SVR\n",
    "from sklearn.ensemble import RandomForestRegressor\n",
    "from sklearn.model_selection import train_test_split\n",
    "import tqdm\n",
    "\n",
    "# 加载parameters\n",
    "security=get_all_securities().index.tolist()\n",
    "start_date=[\"2021-01-01\",\"2022-01-01\",\"2023-01-01\"]\n",
    "end_date=[\"2021-12-31\",\"2022-12-31\",\"2023-12-31\"]\n",
    "dates=get_trade_days(start_date=start_date[0], end_date=end_date[2], count=None)\n",
    "#这里返回的是一个datetime的list\n",
    "# 现在建立一个dataframe，index是dates，columns名是loss_ratio，初始值均为0\n",
    "result=pd.DataFrame(index=dates,columns=[\"loss_ratio\",\"loss_ratio_list\"])\n",
    "result[\"loss_ratio\"] = result[\"loss_ratio\"].apply(lambda x: 1000)\n",
    "result[\"loss_ratio_list\"] = result[\"loss_ratio_list\"].apply(lambda x: [])\n",
    "\n",
    "# 定义结果\n",
    "Model1_R2=[]\n",
    "Model1_beta=[]\n",
    "Model1_alpha=[]\n",
    "Model2_R2=[]\n",
    "Model2_beta_1=[]\n",
    "Model2_beta_7=[]\n",
    "Model2_alpha=[]\n",
    "Lasso1_R2=[]\n",
    "Ridge1_R2=[]\n",
    "Basis1_R2=[]\n",
    "KNN1_R2=[]\n",
    "SVM1_R2=[]\n",
    "RandomForest1_R2=[]\n",
    "Lasso2_R2=[]\n",
    "Ridge2_R2=[]\n",
    "Basis2_R2=[]\n",
    "KNN2_R2=[]\n",
    "SVM2_R2=[]\n",
    "RandomForest2_R2=[]\n",
    "\n",
    "\n",
    "security=security[0:1000]\n",
    "len(security)"
   ]
  },
  {
   "cell_type": "code",
   "execution_count": 2,
   "id": "ae9d8499-1dee-4833-8c5b-7bdbe8e6d8c3",
   "metadata": {},
   "outputs": [
    {
     "name": "stderr",
     "output_type": "stream",
     "text": [
      "  1%|▏         | 14/1000 [01:56<2:12:43,  8.08s/it]"
     ]
    },
    {
     "name": "stdout",
     "output_type": "stream",
     "text": [
      "数据获取失败: 000018.XSHE\n"
     ]
    },
    {
     "name": "stderr",
     "output_type": "stream",
     "text": [
      "  2%|▏         | 20/1000 [02:36<2:06:30,  7.75s/it]"
     ]
    },
    {
     "name": "stdout",
     "output_type": "stream",
     "text": [
      "数据获取失败: 000024.XSHE\n"
     ]
    },
    {
     "name": "stderr",
     "output_type": "stream",
     "text": [
      "  3%|▎         | 29/1000 [03:41<2:08:40,  7.95s/it]"
     ]
    },
    {
     "name": "stdout",
     "output_type": "stream",
     "text": [
      "数据获取失败: 000033.XSHE\n"
     ]
    },
    {
     "name": "stderr",
     "output_type": "stream",
     "text": [
      "  8%|▊         | 78/1000 [10:02<2:03:07,  8.01s/it]"
     ]
    },
    {
     "name": "stdout",
     "output_type": "stream",
     "text": [
      "数据获取失败: 000406.XSHE\n"
     ]
    },
    {
     "name": "stderr",
     "output_type": "stream",
     "text": [
      "  9%|▉         | 88/1000 [11:14<2:00:46,  7.95s/it]"
     ]
    },
    {
     "name": "stdout",
     "output_type": "stream",
     "text": [
      "数据获取失败: 000418.XSHE\n"
     ]
    },
    {
     "name": "stderr",
     "output_type": "stream",
     "text": [
      " 10%|█         | 103/1000 [13:02<1:39:27,  6.65s/it]"
     ]
    },
    {
     "name": "stdout",
     "output_type": "stream",
     "text": [
      "数据获取失败: 000502.XSHE\n"
     ]
    },
    {
     "name": "stderr",
     "output_type": "stream",
     "text": [
      " 11%|█         | 108/1000 [13:42<1:55:35,  7.78s/it]"
     ]
    },
    {
     "name": "stdout",
     "output_type": "stream",
     "text": [
      "数据获取失败: 000508.XSHE\n"
     ]
    },
    {
     "name": "stderr",
     "output_type": "stream",
     "text": [
      " 11%|█         | 111/1000 [13:58<1:44:05,  7.02s/it]"
     ]
    },
    {
     "name": "stdout",
     "output_type": "stream",
     "text": [
      "数据获取失败: 000511.XSHE\n"
     ]
    },
    {
     "name": "stderr",
     "output_type": "stream",
     "text": [
      " 11%|█▏        | 114/1000 [14:14<1:38:44,  6.69s/it]"
     ]
    },
    {
     "name": "stdout",
     "output_type": "stream",
     "text": [
      "数据获取失败: 000515.XSHE\n"
     ]
    },
    {
     "name": "stderr",
     "output_type": "stream",
     "text": [
      " 12%|█▏        | 121/1000 [15:02<1:52:28,  7.68s/it]"
     ]
    },
    {
     "name": "stdout",
     "output_type": "stream",
     "text": [
      "数据获取失败: 000522.XSHE\n"
     ]
    },
    {
     "name": "stderr",
     "output_type": "stream",
     "text": [
      " 13%|█▎        | 126/1000 [15:34<1:49:41,  7.53s/it]"
     ]
    },
    {
     "name": "stdout",
     "output_type": "stream",
     "text": [
      "数据获取失败: 000527.XSHE\n"
     ]
    },
    {
     "name": "stderr",
     "output_type": "stream",
     "text": [
      " 14%|█▍        | 140/1000 [17:16<1:49:33,  7.64s/it]"
     ]
    },
    {
     "name": "stdout",
     "output_type": "stream",
     "text": [
      "数据获取失败: 000542.XSHE\n"
     ]
    },
    {
     "name": "stderr",
     "output_type": "stream",
     "text": [
      " 15%|█▍        | 147/1000 [18:04<1:50:26,  7.77s/it]"
     ]
    },
    {
     "name": "stdout",
     "output_type": "stream",
     "text": [
      "数据获取失败: 000549.XSHE\n"
     ]
    },
    {
     "name": "stderr",
     "output_type": "stream",
     "text": [
      " 16%|█▌        | 159/1000 [19:32<1:51:07,  7.93s/it]"
     ]
    },
    {
     "name": "stdout",
     "output_type": "stream",
     "text": [
      "数据获取失败: 000562.XSHE\n"
     ]
    },
    {
     "name": "stderr",
     "output_type": "stream",
     "text": [
      " 17%|█▋        | 166/1000 [20:20<1:48:38,  7.82s/it]"
     ]
    },
    {
     "name": "stdout",
     "output_type": "stream",
     "text": [
      "数据获取失败: 000569.XSHE\n"
     ]
    },
    {
     "name": "stderr",
     "output_type": "stream",
     "text": [
      " 17%|█▋        | 172/1000 [21:00<1:46:10,  7.69s/it]"
     ]
    },
    {
     "name": "stdout",
     "output_type": "stream",
     "text": [
      "数据获取失败: 000578.XSHE\n"
     ]
    },
    {
     "name": "stderr",
     "output_type": "stream",
     "text": [
      " 18%|█▊        | 177/1000 [21:28<1:23:22,  6.08s/it]"
     ]
    },
    {
     "name": "stdout",
     "output_type": "stream",
     "text": [
      "数据获取失败: 000585.XSHE\n"
     ]
    },
    {
     "name": "stderr",
     "output_type": "stream",
     "text": [
      " 18%|█▊        | 184/1000 [22:21<1:45:11,  7.73s/it]"
     ]
    },
    {
     "name": "stdout",
     "output_type": "stream",
     "text": [
      "数据获取失败: 000594.XSHE\n"
     ]
    },
    {
     "name": "stderr",
     "output_type": "stream",
     "text": [
      " 19%|█▉        | 192/1000 [23:17<1:45:14,  7.81s/it]"
     ]
    },
    {
     "name": "stdout",
     "output_type": "stream",
     "text": [
      "数据获取失败: 000602.XSHE\n"
     ]
    },
    {
     "name": "stderr",
     "output_type": "stream",
     "text": [
      " 20%|██        | 201/1000 [24:15<1:25:49,  6.45s/it]"
     ]
    },
    {
     "name": "stdout",
     "output_type": "stream",
     "text": [
      "数据获取失败: 000611.XSHE\n"
     ]
    },
    {
     "name": "stderr",
     "output_type": "stream",
     "text": [
      " 20%|██        | 203/1000 [24:26<1:17:38,  5.84s/it]"
     ]
    },
    {
     "name": "stdout",
     "output_type": "stream",
     "text": [
      "数据获取失败: 000613.XSHE\n"
     ]
    },
    {
     "name": "stderr",
     "output_type": "stream",
     "text": [
      " 21%|██        | 206/1000 [24:49<1:31:56,  6.95s/it]"
     ]
    },
    {
     "name": "stdout",
     "output_type": "stream",
     "text": [
      "数据获取失败: 000618.XSHE\n"
     ]
    },
    {
     "name": "stderr",
     "output_type": "stream",
     "text": [
      " 23%|██▎       | 234/1000 [28:18<1:13:03,  5.72s/it]"
     ]
    },
    {
     "name": "stdout",
     "output_type": "stream",
     "text": [
      "数据获取失败: 000662.XSHE\n"
     ]
    },
    {
     "name": "stderr",
     "output_type": "stream",
     "text": [
      " 24%|██▍       | 240/1000 [29:03<1:34:02,  7.42s/it]"
     ]
    },
    {
     "name": "stdout",
     "output_type": "stream",
     "text": [
      "数据获取失败: 000670.XSHE\n"
     ]
    },
    {
     "name": "stderr",
     "output_type": "stream",
     "text": [
      " 24%|██▍       | 244/1000 [29:21<1:12:33,  5.76s/it]"
     ]
    },
    {
     "name": "stdout",
     "output_type": "stream",
     "text": [
      "数据获取失败: 000673.XSHE\n"
     ]
    },
    {
     "name": "stderr",
     "output_type": "stream",
     "text": [
      " 26%|██▌       | 255/1000 [30:45<1:22:09,  6.62s/it]"
     ]
    },
    {
     "name": "stdout",
     "output_type": "stream",
     "text": [
      "数据获取失败: 000687.XSHE\n"
     ]
    },
    {
     "name": "stderr",
     "output_type": "stream",
     "text": [
      " 26%|██▌       | 259/1000 [31:17<1:34:36,  7.66s/it]"
     ]
    },
    {
     "name": "stdout",
     "output_type": "stream",
     "text": [
      "数据获取失败: 000693.XSHE\n"
     ]
    },
    {
     "name": "stderr",
     "output_type": "stream",
     "text": [
      " 30%|██▉       | 298/1000 [36:20<1:33:04,  7.96s/it]"
     ]
    },
    {
     "name": "stdout",
     "output_type": "stream",
     "text": [
      "数据获取失败: 000748.XSHE\n"
     ]
    },
    {
     "name": "stderr",
     "output_type": "stream",
     "text": [
      " 31%|███       | 309/1000 [37:33<1:05:16,  5.67s/it]"
     ]
    },
    {
     "name": "stdout",
     "output_type": "stream",
     "text": [
      "数据获取失败: 000760.XSHE\n"
     ]
    },
    {
     "name": "stderr",
     "output_type": "stream",
     "text": [
      " 31%|███       | 311/1000 [37:49<1:18:52,  6.87s/it]"
     ]
    },
    {
     "name": "stdout",
     "output_type": "stream",
     "text": [
      "数据获取失败: 000763.XSHE\n"
     ]
    },
    {
     "name": "stderr",
     "output_type": "stream",
     "text": [
      " 32%|███▏      | 320/1000 [38:48<1:09:41,  6.15s/it]"
     ]
    },
    {
     "name": "stdout",
     "output_type": "stream",
     "text": [
      "数据获取失败: 000780.XSHE\n"
     ]
    },
    {
     "name": "stderr",
     "output_type": "stream",
     "text": [
      " 35%|███▍      | 348/1000 [42:29<1:26:34,  7.97s/it]"
     ]
    },
    {
     "name": "stdout",
     "output_type": "stream",
     "text": [
      "数据获取失败: 000817.XSHE\n"
     ]
    },
    {
     "name": "stderr",
     "output_type": "stream",
     "text": [
      " 36%|███▋      | 363/1000 [44:16<1:09:35,  6.55s/it]"
     ]
    },
    {
     "name": "stdout",
     "output_type": "stream",
     "text": [
      "数据获取失败: 000835.XSHE\n"
     ]
    },
    {
     "name": "stderr",
     "output_type": "stream",
     "text": [
      " 38%|███▊      | 378/1000 [46:17<1:23:06,  8.02s/it]"
     ]
    },
    {
     "name": "stdout",
     "output_type": "stream",
     "text": [
      "数据获取失败: 000866.XSHE\n"
     ]
    },
    {
     "name": "stderr",
     "output_type": "stream",
     "text": [
      " 42%|████▏     | 415/1000 [51:05<1:18:26,  8.05s/it]"
     ]
    },
    {
     "name": "stdout",
     "output_type": "stream",
     "text": [
      "数据获取失败: 000916.XSHE\n"
     ]
    },
    {
     "name": "stderr",
     "output_type": "stream",
     "text": [
      " 44%|████▎     | 436/1000 [53:45<1:15:55,  8.08s/it]"
     ]
    },
    {
     "name": "stdout",
     "output_type": "stream",
     "text": [
      "数据获取失败: 000939.XSHE\n"
     ]
    },
    {
     "name": "stderr",
     "output_type": "stream",
     "text": [
      " 44%|████▍     | 444/1000 [54:41<1:13:28,  7.93s/it]"
     ]
    },
    {
     "name": "stdout",
     "output_type": "stream",
     "text": [
      "数据获取失败: 000956.XSHE\n"
     ]
    },
    {
     "name": "stderr",
     "output_type": "stream",
     "text": [
      " 46%|████▋     | 465/1000 [57:21<1:11:18,  8.00s/it]"
     ]
    },
    {
     "name": "stdout",
     "output_type": "stream",
     "text": [
      "数据获取失败: 000979.XSHE\n"
     ]
    },
    {
     "name": "stderr",
     "output_type": "stream",
     "text": [
      " 50%|████▉     | 499/1000 [1:01:43<1:04:54,  7.77s/it]"
     ]
    },
    {
     "name": "stdout",
     "output_type": "stream",
     "text": [
      "数据获取失败: 002018.XSHE\n"
     ]
    },
    {
     "name": "stderr",
     "output_type": "stream",
     "text": [
      " 56%|█████▌    | 555/1000 [1:09:05<59:37,  8.04s/it]  "
     ]
    },
    {
     "name": "stdout",
     "output_type": "stream",
     "text": [
      "数据获取失败: 002070.XSHE\n"
     ]
    },
    {
     "name": "stderr",
     "output_type": "stream",
     "text": [
      " 56%|█████▌    | 557/1000 [1:09:06<42:07,  5.71s/it]"
     ]
    },
    {
     "name": "stdout",
     "output_type": "stream",
     "text": [
      "数据获取失败: 002071.XSHE\n"
     ]
    },
    {
     "name": "stderr",
     "output_type": "stream",
     "text": [
      " 63%|██████▎   | 630/1000 [1:18:49<49:36,  8.04s/it]"
     ]
    },
    {
     "name": "stdout",
     "output_type": "stream",
     "text": [
      "数据获取失败: 002143.XSHE\n"
     ]
    },
    {
     "name": "stderr",
     "output_type": "stream",
     "text": [
      " 64%|██████▍   | 641/1000 [1:20:04<39:41,  6.63s/it]"
     ]
    },
    {
     "name": "stdout",
     "output_type": "stream",
     "text": [
      "数据获取失败: 002147.XSHE\n"
     ]
    },
    {
     "name": "stderr",
     "output_type": "stream",
     "text": [
      " 71%|███████   | 710/1000 [1:29:17<38:38,  8.00s/it]"
     ]
    },
    {
     "name": "stdout",
     "output_type": "stream",
     "text": [
      "数据获取失败: 002220.XSHE\n"
     ]
    },
    {
     "name": "stderr",
     "output_type": "stream",
     "text": [
      " 75%|███████▌  | 750/1000 [1:34:29<33:27,  8.03s/it]"
     ]
    },
    {
     "name": "stdout",
     "output_type": "stream",
     "text": [
      "数据获取失败: 002260.XSHE\n"
     ]
    },
    {
     "name": "stderr",
     "output_type": "stream",
     "text": [
      " 84%|████████▍ | 843/1000 [1:46:43<17:26,  6.66s/it]"
     ]
    },
    {
     "name": "stdout",
     "output_type": "stream",
     "text": [
      "数据获取失败: 300023.XSHE\n"
     ]
    },
    {
     "name": "stderr",
     "output_type": "stream",
     "text": [
      " 85%|████████▌ | 850/1000 [1:47:39<19:45,  7.90s/it]"
     ]
    },
    {
     "name": "stdout",
     "output_type": "stream",
     "text": [
      "数据获取失败: 300028.XSHE\n"
     ]
    },
    {
     "name": "stderr",
     "output_type": "stream",
     "text": [
      " 90%|█████████ | 902/1000 [1:54:21<09:21,  5.73s/it]"
     ]
    },
    {
     "name": "stdout",
     "output_type": "stream",
     "text": [
      "数据获取失败: 002359.XSHE\n"
     ]
    },
    {
     "name": "stderr",
     "output_type": "stream",
     "text": [
      " 91%|█████████ | 906/1000 [1:54:48<09:34,  6.11s/it]"
     ]
    },
    {
     "name": "stdout",
     "output_type": "stream",
     "text": [
      "数据获取失败: 300038.XSHE\n"
     ]
    },
    {
     "name": "stderr",
     "output_type": "stream",
     "text": [
      "100%|█████████▉| 999/1000 [2:07:07<00:06,  6.54s/it]"
     ]
    },
    {
     "name": "stdout",
     "output_type": "stream",
     "text": [
      "数据获取失败: 300064.XSHE\n"
     ]
    },
    {
     "name": "stderr",
     "output_type": "stream",
     "text": [
      "100%|██████████| 1000/1000 [2:07:15<00:00,  7.64s/it]\n"
     ]
    }
   ],
   "source": [
    "\n",
    "\n",
    "# 加载数据\n",
    "cnt=0\n",
    "for i in tqdm.tqdm(security):\n",
    "    df1 = get_bars(security=str(i), start_date=start_date[0], end_date=end_date[0], unit=\"1m\",type=\"stock\")\n",
    "    if df1 is None:\n",
    "        print(f\"数据获取失败: {str(i)}\")\n",
    "        continue\n",
    "    df2 = get_bars(security=str(i), start_date=start_date[1], end_date=end_date[1], unit=\"1m\",type=\"stock\")\n",
    "    if df2 is None:\n",
    "        print(f\"数据获取失败: {str(i)}\")\n",
    "        continue\n",
    "    df3 = get_bars(security=str(i), start_date=start_date[2], end_date=end_date[2], unit=\"1m\",type=\"stock\")\n",
    "    if df3 is None:\n",
    "        print(f\"数据获取失败: {str(i)}\")\n",
    "        continue\n",
    "    df = pd.concat([df1, df2, df3], axis=0)\n",
    "    if df is None:\n",
    "        print(f\"数据获取失败: {str(i)}\")\n",
    "        continue\n",
    "    df = df.reset_index().rename(columns={'index': 'date'})\n",
    "\n",
    "    # 清洗数据\n",
    "    dataCleaner=DataCleaner(df)\n",
    "    dataCleaner.clean()\n",
    "    r1=dataCleaner.getR1()\n",
    "    r7=dataCleaner.getR7()\n",
    "    r8=dataCleaner.getR8()\n",
    "    theDates=dataCleaner.getDates()\n",
    "    \n",
    "    # 拟合模型\n",
    "    # Model1\n",
    "    model1=Model1(r8,r1)\n",
    "    model1.fit()\n",
    "    Model1_R2.append(model1.getR2())\n",
    "    Model1_beta.append(model1.getBeta())\n",
    "    Model1_alpha.append(model1.getAlpha())\n",
    "    # print(\"Model1 Alpha:\", model1.getAlpha())\n",
    "    # print(\"Model1 Beta:\", model1.getBeta())\n",
    "    # print(\"Model1 R2:\", model1.getR2())\n",
    "    # model1.plot()\n",
    "\n",
    "    # Model2\n",
    "    model2 = Model2(r8, r1, r7)\n",
    "    model2.fit()\n",
    "    Model2_R2.append(model2.getR2())\n",
    "    Model2_beta_1.append(model2.getBeta_r1())\n",
    "    Model2_beta_7.append(model2.getBeta_r7())\n",
    "    Model2_alpha.append(model2.getAlpha())\n",
    "    # print(\"Model2 Alpha:\", model2.getAlpha())\n",
    "    # print(\"Model2 Beta_r1:\", model2.getBeta_r1())\n",
    "    # print(\"Model2 Beta_r7:\", model2.getBeta_r7())\n",
    "    # print(\"Model2 R2:\", model2.getR2())\n",
    "    # model2.plot()\n",
    "\n",
    "\n",
    "    # 将数据分为训练集和测试集\n",
    "    r1_train, r1_test, r8_train, r8_test = train_test_split(r1, r8, test_size=0.3, random_state=42)\n",
    "    r7_train, r7_test = train_test_split(r7, test_size=0.3, random_state=42)\n",
    "\n",
    "    # 转换为数组并重塑\n",
    "    r1_train = np.array(r1_train).reshape(-1, 1)\n",
    "    r1_test = np.array(r1_test).reshape(-1, 1)\n",
    "    r7_train = np.array(r7_train).reshape(-1, 1)\n",
    "    r7_test = np.array(r7_test).reshape(-1, 1)\n",
    "    r8_train = np.array(r8_train).ravel()\n",
    "    r8_test = np.array(r8_test).ravel()\n",
    "\n",
    "    # Lasso1\n",
    "    lasso = Lasso()\n",
    "    lasso.fit(r1_train, r8_train)\n",
    "    Lasso1_R2.append(lasso.score(r1_test, r8_test))\n",
    "\n",
    "    # Lasso2\n",
    "    lasso = Lasso()\n",
    "    lasso.fit(np.hstack((r1_train, r7_train)), r8_train)\n",
    "    Lasso2_R2.append(lasso.score(np.hstack((r1_test, r7_test)), r8_test))\n",
    "\n",
    "    # Ridge1\n",
    "    ridge = Ridge()\n",
    "    ridge.fit(r1_train, r8_train)\n",
    "    Ridge1_R2.append(ridge.score(r1_test, r8_test))\n",
    "\n",
    "    # Ridge2\n",
    "    ridge = Ridge()\n",
    "    ridge.fit(np.hstack((r1_train, r7_train)), r8_train)\n",
    "    Ridge2_R2.append(ridge.score(np.hstack((r1_test, r7_test)), r8_test))\n",
    "\n",
    "    # Basis1\n",
    "    poly = PolynomialFeatures(degree=3)\n",
    "    r1_poly_train = poly.fit_transform(r1_train)\n",
    "    r1_poly_test = poly.transform(r1_test)\n",
    "    basis = Ridge()\n",
    "    basis.fit(r1_poly_train, r8_train)\n",
    "    Basis1_R2.append(basis.score(r1_poly_test, r8_test))\n",
    "\n",
    "    # Basis2\n",
    "    r7_poly_train = poly.fit_transform(r7_train)\n",
    "    r7_poly_test = poly.transform(r7_test)\n",
    "    basis = Ridge()\n",
    "    basis.fit(np.hstack((r1_poly_train, r7_poly_train)), r8_train)\n",
    "    Basis2_R2.append(basis.score(np.hstack((r1_poly_test, r7_poly_test)), r8_test))\n",
    "\n",
    "    # KNN1\n",
    "    knn = KNeighborsRegressor()\n",
    "    knn.fit(r1_train, r8_train)\n",
    "    KNN1_R2.append(knn.score(r1_test, r8_test))\n",
    "\n",
    "    # KNN2\n",
    "    knn = KNeighborsRegressor()\n",
    "    knn.fit(np.hstack((r1_train, r7_train)), r8_train)\n",
    "    KNN2_R2.append(knn.score(np.hstack((r1_test, r7_test)), r8_test))\n",
    "\n",
    "    # SVM1\n",
    "    svm = SVR()\n",
    "    svm.fit(r1_train, r8_train)\n",
    "    SVM1_R2.append(svm.score(r1_test, r8_test))\n",
    "\n",
    "    # SVM2\n",
    "    svm = SVR()\n",
    "    svm.fit(np.hstack((r1_train, r7_train)), r8_train)\n",
    "    SVM2_R2.append(svm.score(np.hstack((r1_test, r7_test)), r8_test))\n",
    "\n",
    "    # RandomForest1\n",
    "    rf = RandomForestRegressor()\n",
    "    rf.fit(r1_train, r8_train)\n",
    "    RandomForest1_R2.append(rf.score(r1_test, r8_test))\n",
    "\n",
    "    # RandomForest2\n",
    "    rf = RandomForestRegressor()\n",
    "    rf.fit(np.hstack((r1_train, r7_train)), r8_train)\n",
    "    RandomForest2_R2.append(rf.score(np.hstack((r1_test, r7_test)), r8_test))\n",
    "    \n",
    "    cnt += 1\n",
    "    # print(\"\\r Progress:{}/{}       \".format(cnt, len(security)), end=\"\")\n",
    "\n",
    "    "
   ]
  },
  {
   "cell_type": "code",
   "execution_count": 4,
   "id": "8229a6d6-c1f8-4b45-a1b6-019f263fb9f0",
   "metadata": {
    "tags": []
   },
   "outputs": [
    {
     "name": "stdout",
     "output_type": "stream",
     "text": [
      "Model1_R2:0.007183826323337612\n"
     ]
    },
    {
     "data": {
      "image/png": "[encoded data removed]",
      "text/plain": [
       "<Figure size 432x288 with 1 Axes>"
      ]
     },
     "metadata": {
      "needs_background": "light"
     },
     "output_type": "display_data"
    },
    {
     "name": "stdout",
     "output_type": "stream",
     "text": [
      "Model2_R2:0.016023829199760906\n"
     ]
    },
    {
     "data": {
      "image/png": "[encoded data removed]",
      "text/plain": [
       "<Figure size 432x288 with 1 Axes>"
      ]
     },
     "metadata": {
      "needs_background": "light"
     },
     "output_type": "display_data"
    },
    {
     "name": "stdout",
     "output_type": "stream",
     "text": [
      "Lasso1_R2:-0.005931237102964577\n"
     ]
    },
    {
     "data": {
      "image/png": "[encoded data removed]",
      "text/plain": [
       "<Figure size 432x288 with 1 Axes>"
      ]
     },
     "metadata": {
      "needs_background": "light"
     },
     "output_type": "display_data"
    },
    {
     "name": "stdout",
     "output_type": "stream",
     "text": [
      "Lasso2_R2:-0.005931237102964577\n"
     ]
    },
    {
     "data": {
      "image/png": "[encoded data removed]",
      "text/plain": [
       "<Figure size 432x288 with 1 Axes>"
      ]
     },
     "metadata": {
      "needs_background": "light"
     },
     "output_type": "display_data"
    },
    {
     "name": "stdout",
     "output_type": "stream",
     "text": [
      "Ridge1_R2:-0.006645788051969982\n"
     ]
    },
    {
     "data": {
      "image/png": "[encoded data removed]",
      "text/plain": [
       "<Figure size 432x288 with 1 Axes>"
      ]
     },
     "metadata": {
      "needs_background": "light"
     },
     "output_type": "display_data"
    },
    {
     "name": "stdout",
     "output_type": "stream",
     "text": [
      "Ridge2_R2:-0.006555694213219476\n"
     ]
    },
    {
     "data": {
      "image/png": "[encoded data removed]",
      "text/plain": [
       "<Figure size 432x288 with 1 Axes>"
      ]
     },
     "metadata": {
      "needs_background": "light"
     },
     "output_type": "display_data"
    },
    {
     "name": "stdout",
     "output_type": "stream",
     "text": [
      "Basis1_R2:-0.00638961529036751\n"
     ]
    },
    {
     "data": {
      "image/png": "[encoded data removed]",
      "text/plain": [
       "<Figure size 432x288 with 1 Axes>"
      ]
     },
     "metadata": {
      "needs_background": "light"
     },
     "output_type": "display_data"
    },
    {
     "name": "stdout",
     "output_type": "stream",
     "text": [
      "Basis2_R2:-0.006299295816952015\n"
     ]
    },
    {
     "data": {
      "image/png": "[encoded data removed]",
      "text/plain": [
       "<Figure size 432x288 with 1 Axes>"
      ]
     },
     "metadata": {
      "needs_background": "light"
     },
     "output_type": "display_data"
    },
    {
     "name": "stdout",
     "output_type": "stream",
     "text": [
      "KNN1_R2:-0.204473481409657\n"
     ]
    },
    {
     "data": {
      "image/png": "[encoded data removed]",
      "text/plain": [
       "<Figure size 432x288 with 1 Axes>"
      ]
     },
     "metadata": {
      "needs_background": "light"
     },
     "output_type": "display_data"
    },
    {
     "name": "stdout",
     "output_type": "stream",
     "text": [
      "KNN2_R2:-0.18016970604646027\n"
     ]
    },
    {
     "data": {
      "image/png": "[encoded data removed]",
      "text/plain": [
       "<Figure size 432x288 with 1 Axes>"
      ]
     },
     "metadata": {
      "needs_background": "light"
     },
     "output_type": "display_data"
    },
    {
     "name": "stdout",
     "output_type": "stream",
     "text": [
      "SVM1_R2:-4.28903783914544\n"
     ]
    },
    {
     "data": {
      "image/png": "[encoded data removed]",
      "text/plain": [
       "<Figure size 432x288 with 1 Axes>"
      ]
     },
     "metadata": {
      "needs_background": "light"
     },
     "output_type": "display_data"
    },
    {
     "name": "stdout",
     "output_type": "stream",
     "text": [
      "SVM2_R2:-4.3804112702747355\n"
     ]
    },
    {
     "data": {
      "image/png": "[encoded data removed]",
      "text/plain": [
       "<Figure size 432x288 with 1 Axes>"
      ]
     },
     "metadata": {
      "needs_background": "light"
     },
     "output_type": "display_data"
    },
    {
     "name": "stdout",
     "output_type": "stream",
     "text": [
      "RandomForest1_R2:-0.47297205356470207\n"
     ]
    },
    {
     "data": {
      "image/png": "[encoded data removed]",
      "text/plain": [
       "<Figure size 432x288 with 1 Axes>"
      ]
     },
     "metadata": {
      "needs_background": "light"
     },
     "output_type": "display_data"
    },
    {
     "name": "stdout",
     "output_type": "stream",
     "text": [
      "RandomForest2_R2:-0.2624797332287911\n"
     ]
    },
    {
     "data": {
      "image/png": "[encoded data removed]",
      "text/plain": [
       "<Figure size 432x288 with 1 Axes>"
      ]
     },
     "metadata": {
      "needs_background": "light"
     },
     "output_type": "display_data"
    },
    {
     "data": {
      "image/png": "[encoded data removed]",
      "text/plain": [
       "<Figure size 1440x576 with 1 Axes>"
      ]
     },
     "metadata": {
      "needs_background": "light"
     },
     "output_type": "display_data"
    }
   ],
   "source": [
    "# 统计数据&可视化\n",
    "n=100\n",
    "\n",
    "print(\"Model1_R2:\"+str(np.nanmean(Model1_R2)))\n",
    "plt.hist(Model1_R2,n)\n",
    "plt.show()\n",
    "\n",
    "print(\"Model2_R2:\"+str(np.nanmean(Model2_R2)))\n",
    "plt.hist(Model2_R2,n)\n",
    "plt.show()\n",
    "\n",
    "print(\"Lasso1_R2:\"+str(np.nanmean(Lasso1_R2)))\n",
    "plt.hist(Lasso1_R2,n)\n",
    "plt.show()\n",
    "\n",
    "print(\"Lasso2_R2:\"+str(np.nanmean(Lasso2_R2)))\n",
    "plt.hist(Lasso2_R2,n)\n",
    "plt.show()\n",
    "\n",
    "print(\"Ridge1_R2:\"+str(np.nanmean(Ridge1_R2)))\n",
    "plt.hist(Ridge1_R2,n)\n",
    "plt.show()\n",
    "\n",
    "print(\"Ridge2_R2:\"+str(np.nanmean(Ridge2_R2)))\n",
    "plt.hist(Ridge2_R2,n)\n",
    "plt.show()\n",
    "\n",
    "print(\"Basis1_R2:\"+str(np.nanmean(Basis1_R2)))\n",
    "plt.hist(Basis1_R2,n)\n",
    "plt.show()\n",
    "\n",
    "print(\"Basis2_R2:\"+str(np.nanmean(Basis2_R2)))\n",
    "plt.hist(Basis2_R2,n)\n",
    "plt.show()\n",
    "\n",
    "print(\"KNN1_R2:\"+str(np.nanmean(KNN1_R2)))\n",
    "plt.hist(KNN1_R2,n)\n",
    "plt.show()\n",
    "\n",
    "print(\"KNN2_R2:\"+str(np.nanmean(KNN2_R2)))\n",
    "plt.hist(KNN2_R2,n)\n",
    "plt.show()\n",
    "\n",
    "print(\"SVM1_R2:\"+str(np.nanmean(SVM1_R2)))\n",
    "plt.hist(SVM1_R2,n)\n",
    "plt.show()\n",
    "\n",
    "print(\"SVM2_R2:\"+str(np.nanmean(SVM2_R2)))\n",
    "plt.hist(SVM2_R2,n)\n",
    "plt.show()\n",
    "\n",
    "print(\"RandomForest1_R2:\"+str(np.nanmean(RandomForest1_R2)))\n",
    "plt.hist(RandomForest1_R2,n)\n",
    "plt.show()\n",
    "\n",
    "print(\"RandomForest2_R2:\"+str(np.nanmean(RandomForest2_R2)))\n",
    "plt.hist(RandomForest2_R2,n)\n",
    "plt.show()\n",
    "\n",
    "plt.bar([\"Model1\",\"Model2\",\"Lasso1\",\"Lasso2\",\"Ridge1\",\"Ridge2\",\"Basis1\",\"Basis2\",\"KNN1\",\"KNN2\",\"SVM1\",\"SVM2\",\"RandomForest1\",\"RandomForest2\"],\n",
    "        [np.nanmean(Model1_R2),np.nanmean(Model2_R2),np.nanmean(Lasso1_R2),np.nanmean(Lasso2_R2),np.nanmean(Ridge1_R2),np.nanmean(Ridge2_R2),np.nanmean(Basis1_R2),np.nanmean(Basis2_R2),np.nanmean(KNN1_R2),np.nanmean(KNN2_R2),np.nanmean(SVM1_R2),np.nanmean(SVM2_R2),np.nanmean(RandomForest1_R2),np.nanmean(RandomForest2_R2)])\n",
    "plt.gcf().set_size_inches(20, 8)\n",
    "plt.savefig(\"compareModel.png\")\n",
    "plt.show()"
   ]
  },
  {
   "cell_type": "code",
   "execution_count": null,
   "id": "fcfb35d1-d4ab-4b54-b8d4-e73c1b8736d2",
   "metadata": {},
   "outputs": [],
   "source": []
  }
 ],
 "metadata": {
  "kernelspec": {
   "display_name": "Python 3",
   "language": "python",
   "name": "python3"
  },
  "language_info": {
   "codemirror_mode": {
    "name": "ipython",
    "version": 3
   },
   "file_extension": ".py",
   "mimetype": "text/x-python",
   "name": "python",
   "nbconvert_exporter": "python",
   "pygments_lexer": "ipython3",
   "version": "3.7.6"
  }
 },
 "nbformat": 4,
 "nbformat_minor": 5
}
